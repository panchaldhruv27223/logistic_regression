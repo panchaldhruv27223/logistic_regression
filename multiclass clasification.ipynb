{
 "cells": [
  {
   "cell_type": "code",
   "execution_count": 1,
   "id": "11202be8",
   "metadata": {},
   "outputs": [],
   "source": [
    "import pandas as pd\n",
    "import numpy as np\n",
    "import seaborn as sns "
   ]
  },
  {
   "cell_type": "code",
   "execution_count": 3,
   "id": "ffe97e74",
   "metadata": {},
   "outputs": [],
   "source": [
    "from sklearn.datasets import make_classification"
   ]
  },
  {
   "cell_type": "code",
   "execution_count": 4,
   "id": "2c6fd106",
   "metadata": {},
   "outputs": [],
   "source": [
    "X,y = make_classification(n_samples=1000, n_features=10, n_classes=3, n_informative=5, n_redundant=5, random_state=42)"
   ]
  },
  {
   "cell_type": "code",
   "execution_count": 5,
   "id": "3d67be70",
   "metadata": {},
   "outputs": [
    {
     "data": {
      "text/plain": [
       "array([[ 2.59014356, -3.42407256,  0.26830895, ..., -0.4075564 ,\n",
       "         2.00889958,  0.91176128],\n",
       "       [-0.18964388,  1.18915349,  1.33715288, ...,  0.75174259,\n",
       "        -0.93616979, -0.0406729 ],\n",
       "       [ 2.33823479,  1.73171672, -2.9554549 , ..., -6.11310542,\n",
       "         2.56981847,  0.49067355],\n",
       "       ...,\n",
       "       [-5.0147105 ,  2.6321196 , -1.85549514, ...,  0.2517947 ,\n",
       "        -1.09326259, -2.72779634],\n",
       "       [-1.59943891,  1.68834032,  1.06411267, ...,  0.93209456,\n",
       "        -1.11081933, -1.08072112],\n",
       "       [ 2.89511603, -4.213598  ,  1.43221441, ...,  2.97446066,\n",
       "        -0.86821862,  0.73856138]])"
      ]
     },
     "execution_count": 5,
     "metadata": {},
     "output_type": "execute_result"
    }
   ],
   "source": [
    "X"
   ]
  },
  {
   "cell_type": "code",
   "execution_count": 6,
   "id": "aaa1713a",
   "metadata": {},
   "outputs": [
    {
     "data": {
      "text/plain": [
       "array([0, 0, 1, 0, 0, 1, 2, 2, 0, 2, 1, 2, 1, 2, 1, 1, 0, 2, 2, 2, 1, 0,\n",
       "       0, 0, 2, 2, 1, 1, 2, 1, 0, 0, 1, 2, 0, 1, 2, 2, 2, 0, 1, 1, 1, 2,\n",
       "       2, 2, 1, 2, 0, 2, 0, 0, 0, 0, 0, 2, 1, 2, 0, 1, 2, 2, 1, 2, 1, 1,\n",
       "       2, 1, 1, 0, 1, 1, 1, 1, 1, 2, 0, 0, 0, 2, 2, 2, 2, 0, 2, 0, 1, 1,\n",
       "       2, 0, 0, 1, 0, 0, 1, 2, 1, 2, 1, 0, 1, 2, 2, 2, 1, 1, 1, 1, 1, 1,\n",
       "       0, 0, 1, 1, 1, 1, 0, 1, 1, 2, 0, 1, 0, 1, 1, 0, 2, 0, 1, 0, 2, 0,\n",
       "       2, 0, 1, 2, 2, 0, 0, 0, 1, 1, 1, 1, 0, 1, 1, 2, 2, 0, 0, 0, 1, 1,\n",
       "       0, 1, 2, 2, 0, 0, 2, 0, 0, 2, 0, 0, 0, 0, 0, 1, 1, 0, 0, 0, 2, 2,\n",
       "       0, 0, 0, 1, 1, 2, 0, 1, 0, 1, 1, 1, 2, 0, 2, 0, 0, 1, 1, 1, 0, 0,\n",
       "       1, 1, 0, 0, 0, 2, 0, 0, 0, 0, 1, 2, 0, 2, 2, 1, 1, 2, 2, 0, 1, 1,\n",
       "       0, 0, 2, 1, 0, 0, 1, 0, 0, 2, 2, 1, 2, 2, 0, 0, 1, 1, 0, 2, 0, 0,\n",
       "       0, 2, 2, 2, 0, 2, 1, 1, 0, 2, 2, 1, 1, 2, 2, 0, 2, 1, 0, 2, 1, 2,\n",
       "       1, 2, 0, 2, 0, 0, 0, 2, 0, 1, 1, 2, 1, 0, 1, 0, 2, 1, 0, 2, 0, 2,\n",
       "       0, 2, 0, 1, 2, 1, 2, 0, 1, 2, 0, 2, 0, 0, 1, 1, 0, 1, 1, 0, 2, 0,\n",
       "       2, 2, 0, 2, 2, 1, 0, 0, 1, 2, 2, 1, 1, 1, 1, 2, 2, 1, 0, 2, 0, 1,\n",
       "       0, 1, 1, 1, 0, 1, 2, 0, 0, 2, 1, 1, 0, 1, 0, 0, 0, 0, 2, 0, 2, 2,\n",
       "       2, 1, 1, 1, 2, 1, 1, 0, 1, 1, 1, 0, 1, 2, 0, 0, 2, 1, 2, 0, 1, 0,\n",
       "       0, 1, 2, 0, 1, 1, 1, 0, 1, 2, 2, 1, 1, 0, 0, 1, 2, 2, 1, 1, 1, 2,\n",
       "       1, 1, 1, 1, 0, 2, 1, 2, 0, 1, 1, 1, 0, 1, 0, 2, 0, 1, 1, 0, 2, 0,\n",
       "       2, 0, 2, 2, 0, 1, 0, 0, 0, 0, 0, 2, 1, 1, 0, 2, 2, 2, 2, 2, 2, 1,\n",
       "       2, 1, 0, 2, 2, 2, 0, 1, 2, 0, 0, 1, 2, 2, 1, 2, 0, 2, 2, 1, 0, 0,\n",
       "       1, 2, 1, 0, 2, 1, 1, 0, 0, 1, 1, 0, 2, 2, 2, 0, 1, 0, 2, 2, 2, 2,\n",
       "       0, 1, 1, 0, 2, 2, 2, 1, 2, 2, 1, 2, 0, 0, 0, 2, 0, 0, 1, 2, 2, 0,\n",
       "       1, 1, 2, 0, 1, 2, 2, 2, 0, 0, 1, 2, 2, 1, 2, 1, 2, 0, 2, 1, 0, 0,\n",
       "       2, 0, 2, 2, 0, 1, 2, 0, 2, 2, 1, 2, 0, 1, 0, 1, 0, 1, 1, 1, 2, 2,\n",
       "       0, 2, 1, 0, 1, 1, 2, 2, 2, 0, 0, 0, 2, 0, 0, 2, 2, 2, 0, 0, 1, 0,\n",
       "       0, 1, 1, 0, 1, 2, 1, 0, 1, 1, 2, 0, 1, 1, 2, 2, 0, 0, 0, 2, 2, 1,\n",
       "       2, 1, 2, 1, 2, 2, 2, 0, 1, 0, 1, 1, 2, 2, 2, 0, 1, 2, 1, 1, 1, 0,\n",
       "       0, 2, 1, 1, 0, 1, 0, 2, 0, 2, 1, 1, 0, 1, 2, 2, 2, 1, 2, 2, 0, 1,\n",
       "       1, 2, 2, 2, 0, 2, 1, 0, 2, 2, 2, 1, 2, 2, 2, 2, 1, 2, 1, 2, 2, 1,\n",
       "       2, 0, 2, 1, 1, 0, 1, 2, 1, 2, 1, 0, 1, 2, 1, 1, 0, 0, 0, 2, 0, 0,\n",
       "       2, 1, 2, 0, 2, 0, 1, 0, 2, 1, 0, 0, 2, 0, 2, 0, 1, 1, 2, 0, 1, 1,\n",
       "       1, 1, 0, 0, 1, 0, 0, 1, 0, 1, 0, 2, 1, 0, 2, 1, 1, 2, 2, 2, 0, 0,\n",
       "       0, 0, 2, 2, 1, 1, 2, 2, 0, 1, 0, 2, 0, 0, 1, 1, 0, 1, 1, 2, 2, 2,\n",
       "       2, 1, 1, 2, 2, 1, 1, 0, 0, 2, 2, 0, 0, 2, 1, 1, 0, 2, 2, 0, 2, 2,\n",
       "       1, 2, 1, 0, 0, 1, 0, 1, 1, 1, 1, 1, 2, 2, 1, 0, 0, 0, 0, 0, 0, 1,\n",
       "       2, 0, 1, 0, 0, 2, 2, 1, 1, 2, 1, 2, 0, 1, 2, 2, 1, 1, 2, 1, 1, 0,\n",
       "       2, 1, 1, 1, 0, 1, 1, 2, 2, 0, 0, 2, 2, 0, 0, 1, 1, 0, 0, 0, 1, 0,\n",
       "       0, 1, 0, 0, 2, 0, 0, 0, 1, 2, 2, 2, 2, 0, 1, 2, 2, 1, 1, 1, 2, 1,\n",
       "       1, 2, 1, 2, 2, 0, 1, 0, 0, 0, 0, 1, 0, 0, 0, 2, 2, 1, 2, 1, 2, 0,\n",
       "       2, 0, 2, 2, 1, 1, 0, 0, 2, 0, 2, 1, 2, 1, 2, 1, 0, 0, 2, 0, 2, 2,\n",
       "       2, 1, 2, 1, 1, 2, 2, 0, 1, 0, 1, 0, 0, 0, 2, 2, 1, 0, 1, 1, 1, 2,\n",
       "       0, 1, 1, 0, 1, 2, 0, 2, 0, 2, 2, 0, 2, 2, 0, 1, 1, 1, 0, 0, 0, 1,\n",
       "       1, 0, 0, 2, 2, 1, 0, 0, 0, 2, 2, 0, 1, 2, 2, 0, 1, 0, 0, 2, 0, 0,\n",
       "       0, 2, 0, 1, 2, 0, 2, 2, 1, 2, 1, 2, 1, 2, 0, 2, 1, 0, 2, 0, 2, 1,\n",
       "       2, 0, 2, 0, 1, 1, 2, 1, 2, 0])"
      ]
     },
     "execution_count": 6,
     "metadata": {},
     "output_type": "execute_result"
    }
   ],
   "source": [
    "y"
   ]
  },
  {
   "cell_type": "code",
   "execution_count": 7,
   "id": "ecf5876a",
   "metadata": {},
   "outputs": [],
   "source": [
    "from sklearn.linear_model import LogisticRegression"
   ]
  },
  {
   "cell_type": "code",
   "execution_count": 13,
   "id": "12131a19",
   "metadata": {},
   "outputs": [],
   "source": [
    "model = LogisticRegression(multi_class=\"multinomial\",solver=\"lbfgs\")"
   ]
  },
  {
   "cell_type": "code",
   "execution_count": 9,
   "id": "6296404b",
   "metadata": {},
   "outputs": [],
   "source": [
    "from sklearn.model_selection import train_test_split\n",
    "X_train,X_test,y_train,y_test = train_test_split(X,y,test_size=0.30,random_state=42)"
   ]
  },
  {
   "cell_type": "code",
   "execution_count": 11,
   "id": "8b2b84bb",
   "metadata": {},
   "outputs": [
    {
     "data": {
      "text/plain": [
       "((300, 10), (700, 10), (700,), (300,))"
      ]
     },
     "execution_count": 11,
     "metadata": {},
     "output_type": "execute_result"
    }
   ],
   "source": [
    "X_test.shape, X_train.shape ,y_train.shape, y_test.shape"
   ]
  },
  {
   "cell_type": "code",
   "execution_count": 14,
   "id": "31f6b108",
   "metadata": {},
   "outputs": [
    {
     "data": {
      "text/html": [
       "<style>#sk-container-id-1 {color: black;background-color: white;}#sk-container-id-1 pre{padding: 0;}#sk-container-id-1 div.sk-toggleable {background-color: white;}#sk-container-id-1 label.sk-toggleable__label {cursor: pointer;display: block;width: 100%;margin-bottom: 0;padding: 0.3em;box-sizing: border-box;text-align: center;}#sk-container-id-1 label.sk-toggleable__label-arrow:before {content: \"▸\";float: left;margin-right: 0.25em;color: #696969;}#sk-container-id-1 label.sk-toggleable__label-arrow:hover:before {color: black;}#sk-container-id-1 div.sk-estimator:hover label.sk-toggleable__label-arrow:before {color: black;}#sk-container-id-1 div.sk-toggleable__content {max-height: 0;max-width: 0;overflow: hidden;text-align: left;background-color: #f0f8ff;}#sk-container-id-1 div.sk-toggleable__content pre {margin: 0.2em;color: black;border-radius: 0.25em;background-color: #f0f8ff;}#sk-container-id-1 input.sk-toggleable__control:checked~div.sk-toggleable__content {max-height: 200px;max-width: 100%;overflow: auto;}#sk-container-id-1 input.sk-toggleable__control:checked~label.sk-toggleable__label-arrow:before {content: \"▾\";}#sk-container-id-1 div.sk-estimator input.sk-toggleable__control:checked~label.sk-toggleable__label {background-color: #d4ebff;}#sk-container-id-1 div.sk-label input.sk-toggleable__control:checked~label.sk-toggleable__label {background-color: #d4ebff;}#sk-container-id-1 input.sk-hidden--visually {border: 0;clip: rect(1px 1px 1px 1px);clip: rect(1px, 1px, 1px, 1px);height: 1px;margin: -1px;overflow: hidden;padding: 0;position: absolute;width: 1px;}#sk-container-id-1 div.sk-estimator {font-family: monospace;background-color: #f0f8ff;border: 1px dotted black;border-radius: 0.25em;box-sizing: border-box;margin-bottom: 0.5em;}#sk-container-id-1 div.sk-estimator:hover {background-color: #d4ebff;}#sk-container-id-1 div.sk-parallel-item::after {content: \"\";width: 100%;border-bottom: 1px solid gray;flex-grow: 1;}#sk-container-id-1 div.sk-label:hover label.sk-toggleable__label {background-color: #d4ebff;}#sk-container-id-1 div.sk-serial::before {content: \"\";position: absolute;border-left: 1px solid gray;box-sizing: border-box;top: 0;bottom: 0;left: 50%;z-index: 0;}#sk-container-id-1 div.sk-serial {display: flex;flex-direction: column;align-items: center;background-color: white;padding-right: 0.2em;padding-left: 0.2em;position: relative;}#sk-container-id-1 div.sk-item {position: relative;z-index: 1;}#sk-container-id-1 div.sk-parallel {display: flex;align-items: stretch;justify-content: center;background-color: white;position: relative;}#sk-container-id-1 div.sk-item::before, #sk-container-id-1 div.sk-parallel-item::before {content: \"\";position: absolute;border-left: 1px solid gray;box-sizing: border-box;top: 0;bottom: 0;left: 50%;z-index: -1;}#sk-container-id-1 div.sk-parallel-item {display: flex;flex-direction: column;z-index: 1;position: relative;background-color: white;}#sk-container-id-1 div.sk-parallel-item:first-child::after {align-self: flex-end;width: 50%;}#sk-container-id-1 div.sk-parallel-item:last-child::after {align-self: flex-start;width: 50%;}#sk-container-id-1 div.sk-parallel-item:only-child::after {width: 0;}#sk-container-id-1 div.sk-dashed-wrapped {border: 1px dashed gray;margin: 0 0.4em 0.5em 0.4em;box-sizing: border-box;padding-bottom: 0.4em;background-color: white;}#sk-container-id-1 div.sk-label label {font-family: monospace;font-weight: bold;display: inline-block;line-height: 1.2em;}#sk-container-id-1 div.sk-label-container {text-align: center;}#sk-container-id-1 div.sk-container {/* jupyter's `normalize.less` sets `[hidden] { display: none; }` but bootstrap.min.css set `[hidden] { display: none !important; }` so we also need the `!important` here to be able to override the default hidden behavior on the sphinx rendered scikit-learn.org. See: https://github.com/scikit-learn/scikit-learn/issues/21755 */display: inline-block !important;position: relative;}#sk-container-id-1 div.sk-text-repr-fallback {display: none;}</style><div id=\"sk-container-id-1\" class=\"sk-top-container\"><div class=\"sk-text-repr-fallback\"><pre>LogisticRegression(multi_class=&#x27;multinomial&#x27;)</pre><b>In a Jupyter environment, please rerun this cell to show the HTML representation or trust the notebook. <br />On GitHub, the HTML representation is unable to render, please try loading this page with nbviewer.org.</b></div><div class=\"sk-container\" hidden><div class=\"sk-item\"><div class=\"sk-estimator sk-toggleable\"><input class=\"sk-toggleable__control sk-hidden--visually\" id=\"sk-estimator-id-1\" type=\"checkbox\" checked><label for=\"sk-estimator-id-1\" class=\"sk-toggleable__label sk-toggleable__label-arrow\">LogisticRegression</label><div class=\"sk-toggleable__content\"><pre>LogisticRegression(multi_class=&#x27;multinomial&#x27;)</pre></div></div></div></div></div>"
      ],
      "text/plain": [
       "LogisticRegression(multi_class='multinomial')"
      ]
     },
     "execution_count": 14,
     "metadata": {},
     "output_type": "execute_result"
    }
   ],
   "source": [
    "model.fit(X_train,y_train)"
   ]
  },
  {
   "cell_type": "code",
   "execution_count": 15,
   "id": "caed5bc3",
   "metadata": {},
   "outputs": [],
   "source": [
    "y_pre = model.predict(X_test)"
   ]
  },
  {
   "cell_type": "code",
   "execution_count": 16,
   "id": "79a3e388",
   "metadata": {},
   "outputs": [
    {
     "data": {
      "text/plain": [
       "array([1, 0, 2, 1, 0, 0, 1, 2, 2, 2, 0, 0, 0, 0, 0, 0, 2, 2, 2, 1, 2, 2,\n",
       "       0, 0, 0, 0, 1, 2, 2, 0, 1, 0, 2, 2, 1, 1, 0, 1, 1, 0, 0, 2, 2, 2,\n",
       "       2, 0, 0, 0, 1, 1, 1, 1, 1, 1, 0, 0, 2, 1, 0, 1, 1, 0, 0, 2, 1, 2,\n",
       "       0, 0, 1, 2, 2, 0, 1, 2, 2, 1, 2, 0, 0, 0, 0, 2, 2, 1, 2, 2, 2, 2,\n",
       "       0, 1, 1, 1, 1, 1, 0, 1, 0, 2, 2, 2, 1, 0, 1, 1, 2, 1, 1, 1, 0, 1,\n",
       "       2, 0, 0, 1, 1, 2, 0, 1, 2, 1, 2, 0, 1, 0, 0, 0, 1, 2, 0, 2, 0, 0,\n",
       "       2, 1, 0, 1, 0, 1, 2, 1, 2, 2, 1, 0, 2, 0, 2, 2, 1, 1, 0, 0, 0, 2,\n",
       "       1, 0, 1, 0, 2, 1, 1, 2, 1, 0, 0, 1, 0, 0, 1, 2, 2, 0, 2, 1, 1, 2,\n",
       "       1, 1, 2, 0, 1, 1, 0, 0, 2, 2, 1, 2, 0, 1, 0, 1, 1, 1, 1, 0, 1, 1,\n",
       "       1, 1, 1, 0, 0, 2, 0, 2, 0, 0, 2, 0, 1, 1, 1, 0, 2, 0, 1, 0, 2, 1,\n",
       "       0, 0, 2, 2, 2, 1, 0, 1, 2, 1, 2, 1, 2, 0, 2, 0, 1, 0, 0, 1, 0, 0,\n",
       "       0, 0, 1, 1, 0, 0, 2, 0, 2, 0, 0, 1, 1, 2, 1, 1, 1, 1, 1, 0, 2, 0,\n",
       "       0, 0, 2, 1, 2, 0, 1, 1, 2, 0, 0, 2, 0, 2, 1, 1, 0, 0, 1, 2, 1, 0,\n",
       "       0, 0, 0, 2, 1, 0, 0, 2, 1, 0, 0, 0, 0, 1])"
      ]
     },
     "execution_count": 16,
     "metadata": {},
     "output_type": "execute_result"
    }
   ],
   "source": [
    "y_pre"
   ]
  },
  {
   "cell_type": "code",
   "execution_count": 19,
   "id": "15951f85",
   "metadata": {},
   "outputs": [],
   "source": [
    "from sklearn.metrics import classification_report, accuracy_score ,confusion_matrix"
   ]
  },
  {
   "cell_type": "code",
   "execution_count": 21,
   "id": "86f2dc90",
   "metadata": {},
   "outputs": [
    {
     "name": "stdout",
     "output_type": "stream",
     "text": [
      "              precision    recall  f1-score   support\n",
      "\n",
      "           0       0.77      0.82      0.79       106\n",
      "           1       0.67      0.74      0.71        94\n",
      "           2       0.72      0.60      0.66       100\n",
      "\n",
      "    accuracy                           0.72       300\n",
      "   macro avg       0.72      0.72      0.72       300\n",
      "weighted avg       0.72      0.72      0.72       300\n",
      "\n"
     ]
    }
   ],
   "source": [
    "print(classification_report(y_test,y_pre))"
   ]
  },
  {
   "cell_type": "code",
   "execution_count": 22,
   "id": "68c837aa",
   "metadata": {},
   "outputs": [
    {
     "data": {
      "text/plain": [
       "0.7233333333333334"
      ]
     },
     "execution_count": 22,
     "metadata": {},
     "output_type": "execute_result"
    }
   ],
   "source": [
    "accuracy_score(y_test,y_pre)"
   ]
  },
  {
   "cell_type": "code",
   "execution_count": 23,
   "id": "9f47b739",
   "metadata": {},
   "outputs": [
    {
     "data": {
      "text/plain": [
       "array([[87,  7, 12],\n",
       "       [13, 70, 11],\n",
       "       [13, 27, 60]], dtype=int64)"
      ]
     },
     "execution_count": 23,
     "metadata": {},
     "output_type": "execute_result"
    }
   ],
   "source": [
    "confusion_matrix(y_test,y_pre)"
   ]
  },
  {
   "cell_type": "code",
   "execution_count": 24,
   "id": "54de0de9",
   "metadata": {},
   "outputs": [],
   "source": [
    "## number of category is = 3 than confusion matrix size will be 3X3\n",
    "## number of category is = 4 than confusion matrix size will be 4X4\n",
    "## diagonal points are accurate "
   ]
  },
  {
   "cell_type": "code",
   "execution_count": 25,
   "id": "3989bab2",
   "metadata": {},
   "outputs": [],
   "source": [
    "model_2 = LogisticRegression(multi_class=\"ovr\",solver=\"lbfgs\")"
   ]
  },
  {
   "cell_type": "code",
   "execution_count": 26,
   "id": "b2f88018",
   "metadata": {},
   "outputs": [
    {
     "data": {
      "text/html": [
       "<style>#sk-container-id-2 {color: black;background-color: white;}#sk-container-id-2 pre{padding: 0;}#sk-container-id-2 div.sk-toggleable {background-color: white;}#sk-container-id-2 label.sk-toggleable__label {cursor: pointer;display: block;width: 100%;margin-bottom: 0;padding: 0.3em;box-sizing: border-box;text-align: center;}#sk-container-id-2 label.sk-toggleable__label-arrow:before {content: \"▸\";float: left;margin-right: 0.25em;color: #696969;}#sk-container-id-2 label.sk-toggleable__label-arrow:hover:before {color: black;}#sk-container-id-2 div.sk-estimator:hover label.sk-toggleable__label-arrow:before {color: black;}#sk-container-id-2 div.sk-toggleable__content {max-height: 0;max-width: 0;overflow: hidden;text-align: left;background-color: #f0f8ff;}#sk-container-id-2 div.sk-toggleable__content pre {margin: 0.2em;color: black;border-radius: 0.25em;background-color: #f0f8ff;}#sk-container-id-2 input.sk-toggleable__control:checked~div.sk-toggleable__content {max-height: 200px;max-width: 100%;overflow: auto;}#sk-container-id-2 input.sk-toggleable__control:checked~label.sk-toggleable__label-arrow:before {content: \"▾\";}#sk-container-id-2 div.sk-estimator input.sk-toggleable__control:checked~label.sk-toggleable__label {background-color: #d4ebff;}#sk-container-id-2 div.sk-label input.sk-toggleable__control:checked~label.sk-toggleable__label {background-color: #d4ebff;}#sk-container-id-2 input.sk-hidden--visually {border: 0;clip: rect(1px 1px 1px 1px);clip: rect(1px, 1px, 1px, 1px);height: 1px;margin: -1px;overflow: hidden;padding: 0;position: absolute;width: 1px;}#sk-container-id-2 div.sk-estimator {font-family: monospace;background-color: #f0f8ff;border: 1px dotted black;border-radius: 0.25em;box-sizing: border-box;margin-bottom: 0.5em;}#sk-container-id-2 div.sk-estimator:hover {background-color: #d4ebff;}#sk-container-id-2 div.sk-parallel-item::after {content: \"\";width: 100%;border-bottom: 1px solid gray;flex-grow: 1;}#sk-container-id-2 div.sk-label:hover label.sk-toggleable__label {background-color: #d4ebff;}#sk-container-id-2 div.sk-serial::before {content: \"\";position: absolute;border-left: 1px solid gray;box-sizing: border-box;top: 0;bottom: 0;left: 50%;z-index: 0;}#sk-container-id-2 div.sk-serial {display: flex;flex-direction: column;align-items: center;background-color: white;padding-right: 0.2em;padding-left: 0.2em;position: relative;}#sk-container-id-2 div.sk-item {position: relative;z-index: 1;}#sk-container-id-2 div.sk-parallel {display: flex;align-items: stretch;justify-content: center;background-color: white;position: relative;}#sk-container-id-2 div.sk-item::before, #sk-container-id-2 div.sk-parallel-item::before {content: \"\";position: absolute;border-left: 1px solid gray;box-sizing: border-box;top: 0;bottom: 0;left: 50%;z-index: -1;}#sk-container-id-2 div.sk-parallel-item {display: flex;flex-direction: column;z-index: 1;position: relative;background-color: white;}#sk-container-id-2 div.sk-parallel-item:first-child::after {align-self: flex-end;width: 50%;}#sk-container-id-2 div.sk-parallel-item:last-child::after {align-self: flex-start;width: 50%;}#sk-container-id-2 div.sk-parallel-item:only-child::after {width: 0;}#sk-container-id-2 div.sk-dashed-wrapped {border: 1px dashed gray;margin: 0 0.4em 0.5em 0.4em;box-sizing: border-box;padding-bottom: 0.4em;background-color: white;}#sk-container-id-2 div.sk-label label {font-family: monospace;font-weight: bold;display: inline-block;line-height: 1.2em;}#sk-container-id-2 div.sk-label-container {text-align: center;}#sk-container-id-2 div.sk-container {/* jupyter's `normalize.less` sets `[hidden] { display: none; }` but bootstrap.min.css set `[hidden] { display: none !important; }` so we also need the `!important` here to be able to override the default hidden behavior on the sphinx rendered scikit-learn.org. See: https://github.com/scikit-learn/scikit-learn/issues/21755 */display: inline-block !important;position: relative;}#sk-container-id-2 div.sk-text-repr-fallback {display: none;}</style><div id=\"sk-container-id-2\" class=\"sk-top-container\"><div class=\"sk-text-repr-fallback\"><pre>LogisticRegression(multi_class=&#x27;ovr&#x27;)</pre><b>In a Jupyter environment, please rerun this cell to show the HTML representation or trust the notebook. <br />On GitHub, the HTML representation is unable to render, please try loading this page with nbviewer.org.</b></div><div class=\"sk-container\" hidden><div class=\"sk-item\"><div class=\"sk-estimator sk-toggleable\"><input class=\"sk-toggleable__control sk-hidden--visually\" id=\"sk-estimator-id-2\" type=\"checkbox\" checked><label for=\"sk-estimator-id-2\" class=\"sk-toggleable__label sk-toggleable__label-arrow\">LogisticRegression</label><div class=\"sk-toggleable__content\"><pre>LogisticRegression(multi_class=&#x27;ovr&#x27;)</pre></div></div></div></div></div>"
      ],
      "text/plain": [
       "LogisticRegression(multi_class='ovr')"
      ]
     },
     "execution_count": 26,
     "metadata": {},
     "output_type": "execute_result"
    }
   ],
   "source": [
    "model_2.fit(X_train,y_train)"
   ]
  },
  {
   "cell_type": "code",
   "execution_count": 29,
   "id": "e5c64cde",
   "metadata": {},
   "outputs": [],
   "source": [
    "y_predict = model_2.predict(X_test)"
   ]
  },
  {
   "cell_type": "code",
   "execution_count": 28,
   "id": "8079a33d",
   "metadata": {},
   "outputs": [
    {
     "data": {
      "text/plain": [
       "array([[1.31342385e-01, 6.47100314e-01, 2.21557301e-01],\n",
       "       [4.20183189e-01, 4.14055063e-01, 1.65761748e-01],\n",
       "       [3.01131456e-01, 3.74902172e-01, 3.23966372e-01],\n",
       "       [6.18193380e-03, 6.87125272e-01, 3.06692794e-01],\n",
       "       [5.98065345e-01, 4.86999850e-02, 3.53234670e-01],\n",
       "       [6.99733963e-01, 2.49796752e-04, 3.00016240e-01],\n",
       "       [6.31294506e-02, 5.73495812e-01, 3.63374737e-01],\n",
       "       [4.00749543e-01, 1.21796534e-01, 4.77453923e-01],\n",
       "       [1.80416651e-01, 3.76982731e-01, 4.42600617e-01],\n",
       "       [3.58989422e-01, 1.82349711e-01, 4.58660867e-01],\n",
       "       [4.79473662e-01, 1.45720913e-01, 3.74805425e-01],\n",
       "       [8.03881803e-01, 9.12603217e-03, 1.86992164e-01],\n",
       "       [5.73118298e-01, 9.10344116e-03, 4.17778261e-01],\n",
       "       [7.81846992e-01, 1.11161186e-02, 2.07036890e-01],\n",
       "       [6.78156631e-01, 5.54720179e-02, 2.66371351e-01],\n",
       "       [6.83374637e-01, 1.31879402e-02, 3.03437423e-01],\n",
       "       [3.90854341e-01, 1.10623626e-01, 4.98522033e-01],\n",
       "       [6.72866513e-02, 5.16916165e-01, 4.15797184e-01],\n",
       "       [2.16691493e-01, 2.28137430e-01, 5.55171078e-01],\n",
       "       [4.88580385e-03, 8.68101295e-01, 1.27012901e-01],\n",
       "       [2.12831791e-01, 1.72435120e-01, 6.14733089e-01],\n",
       "       [8.74107360e-02, 3.58992699e-01, 5.53596565e-01],\n",
       "       [6.71273813e-01, 5.17900915e-02, 2.76936095e-01],\n",
       "       [5.07700062e-01, 2.46802094e-01, 2.45497844e-01],\n",
       "       [5.78243149e-01, 5.13948029e-02, 3.70362049e-01],\n",
       "       [7.83272795e-01, 2.77837316e-02, 1.88943473e-01],\n",
       "       [3.27928352e-02, 6.89163093e-01, 2.78044072e-01],\n",
       "       [2.15863870e-01, 2.21631842e-01, 5.62504288e-01],\n",
       "       [4.72743538e-01, 1.09382181e-01, 4.17874281e-01],\n",
       "       [7.50973963e-01, 3.12755732e-03, 2.45898479e-01],\n",
       "       [2.38856936e-01, 5.68004887e-01, 1.93138177e-01],\n",
       "       [8.25759256e-01, 4.60992207e-02, 1.28141523e-01],\n",
       "       [3.34677274e-02, 4.22366273e-01, 5.44166000e-01],\n",
       "       [7.52566816e-02, 3.64156097e-01, 5.60587221e-01],\n",
       "       [6.87131449e-02, 6.03325527e-01, 3.27961328e-01],\n",
       "       [8.67320832e-02, 6.23832855e-01, 2.89435061e-01],\n",
       "       [7.06713677e-01, 1.40332160e-01, 1.52954163e-01],\n",
       "       [3.70894710e-03, 7.93416744e-01, 2.02874309e-01],\n",
       "       [2.39985269e-01, 4.69912860e-01, 2.90101870e-01],\n",
       "       [4.65575724e-01, 3.74094951e-01, 1.60329325e-01],\n",
       "       [7.05901742e-01, 7.59418845e-02, 2.18156374e-01],\n",
       "       [2.47999399e-02, 4.44719710e-01, 5.30480350e-01],\n",
       "       [3.96347072e-01, 7.77867233e-02, 5.25866205e-01],\n",
       "       [2.30036227e-01, 8.00086232e-02, 6.89955150e-01],\n",
       "       [4.44987667e-01, 3.54547930e-02, 5.19557540e-01],\n",
       "       [7.97110659e-01, 5.73083306e-02, 1.45581010e-01],\n",
       "       [6.74784757e-01, 9.52516546e-02, 2.29963589e-01],\n",
       "       [7.02798109e-01, 1.23616747e-02, 2.84840216e-01],\n",
       "       [8.97022675e-02, 8.09496199e-01, 1.00801533e-01],\n",
       "       [1.00187415e-01, 5.78433430e-01, 3.21379155e-01],\n",
       "       [1.62021524e-02, 6.65590137e-01, 3.18207710e-01],\n",
       "       [3.16041912e-01, 4.79708881e-01, 2.04249206e-01],\n",
       "       [3.57630094e-02, 5.83145493e-01, 3.81091497e-01],\n",
       "       [2.71309060e-02, 7.90561152e-01, 1.82307942e-01],\n",
       "       [3.92807845e-01, 3.53295787e-01, 2.53896369e-01],\n",
       "       [6.92515511e-01, 1.10097687e-01, 1.97386802e-01],\n",
       "       [2.58277285e-01, 1.20501192e-01, 6.21221523e-01],\n",
       "       [1.25392680e-01, 7.20380811e-01, 1.54226509e-01],\n",
       "       [7.21187289e-01, 1.86651653e-01, 9.21610585e-02],\n",
       "       [1.80719178e-01, 6.75718080e-01, 1.43562742e-01],\n",
       "       [3.11298438e-01, 3.76300410e-01, 3.12401152e-01],\n",
       "       [6.11115613e-01, 7.57628192e-02, 3.13121568e-01],\n",
       "       [4.66042616e-01, 1.52498357e-01, 3.81459027e-01],\n",
       "       [3.09624463e-01, 7.85620325e-02, 6.11813504e-01],\n",
       "       [2.83552891e-01, 5.48691678e-01, 1.67755431e-01],\n",
       "       [5.08211886e-01, 2.56283405e-03, 4.89225279e-01],\n",
       "       [6.04248860e-01, 7.31403423e-02, 3.22610797e-01],\n",
       "       [6.92795926e-01, 3.07994615e-03, 3.04124128e-01],\n",
       "       [2.45706822e-02, 5.29398857e-01, 4.46030461e-01],\n",
       "       [1.87286289e-04, 3.24872692e-01, 6.74940021e-01],\n",
       "       [5.90661439e-02, 3.40274540e-01, 6.00659316e-01],\n",
       "       [5.37791946e-01, 1.93166880e-01, 2.69041174e-01],\n",
       "       [1.35167590e-01, 4.93097683e-01, 3.71734727e-01],\n",
       "       [2.03594950e-01, 2.41915246e-01, 5.54489804e-01],\n",
       "       [2.13420452e-01, 3.55902605e-01, 4.30676942e-01],\n",
       "       [9.10987503e-03, 8.68668516e-01, 1.22221609e-01],\n",
       "       [1.15566647e-01, 3.91604021e-01, 4.92829332e-01],\n",
       "       [4.85046161e-01, 1.33038202e-01, 3.81915637e-01],\n",
       "       [4.26364016e-01, 3.61394081e-01, 2.12241903e-01],\n",
       "       [7.34255220e-01, 2.10032794e-02, 2.44741501e-01],\n",
       "       [4.13801716e-01, 3.56978457e-01, 2.29219827e-01],\n",
       "       [3.04925429e-01, 2.10582978e-01, 4.84491593e-01],\n",
       "       [3.22649723e-01, 2.81247880e-02, 6.49225489e-01],\n",
       "       [3.82334017e-02, 5.27583232e-01, 4.34183367e-01],\n",
       "       [3.07253460e-01, 9.62944763e-02, 5.96452063e-01],\n",
       "       [3.86859981e-01, 9.74098747e-02, 5.15730144e-01],\n",
       "       [4.69202162e-01, 9.73860722e-02, 4.33411766e-01],\n",
       "       [3.04614432e-01, 3.25773502e-01, 3.69612066e-01],\n",
       "       [5.68965338e-01, 2.48784688e-01, 1.82249975e-01],\n",
       "       [7.10966442e-02, 5.29605449e-01, 3.99297907e-01],\n",
       "       [3.84276337e-02, 6.38735314e-01, 3.22837053e-01],\n",
       "       [7.12207033e-02, 6.47414080e-01, 2.81365216e-01],\n",
       "       [2.52345320e-03, 7.59000245e-01, 2.38476301e-01],\n",
       "       [1.20668052e-03, 8.72673718e-01, 1.26119602e-01],\n",
       "       [5.75931403e-01, 1.92165563e-01, 2.31903034e-01],\n",
       "       [1.86868080e-01, 4.69015295e-01, 3.44116625e-01],\n",
       "       [5.95732321e-01, 1.40462682e-01, 2.63804997e-01],\n",
       "       [4.60232462e-01, 3.78682602e-02, 5.01899278e-01],\n",
       "       [1.88990720e-01, 4.01880371e-01, 4.09128910e-01],\n",
       "       [3.03526466e-01, 8.82893121e-02, 6.08184222e-01],\n",
       "       [1.03107599e-02, 6.59912019e-01, 3.29777221e-01],\n",
       "       [5.01455864e-01, 1.25438286e-01, 3.73105850e-01],\n",
       "       [1.60061235e-01, 6.25668974e-01, 2.14269791e-01],\n",
       "       [9.51830189e-02, 5.10495633e-01, 3.94321349e-01],\n",
       "       [3.44710387e-01, 4.34578783e-02, 6.11831735e-01],\n",
       "       [3.55795560e-01, 5.70579524e-01, 7.36249163e-02],\n",
       "       [1.11736773e-02, 7.67856065e-01, 2.20970257e-01],\n",
       "       [5.09550210e-02, 4.37504915e-01, 5.11540064e-01],\n",
       "       [5.84110239e-01, 1.85927879e-01, 2.29961882e-01],\n",
       "       [9.17210523e-02, 6.72949888e-01, 2.35329060e-01],\n",
       "       [2.09517813e-01, 3.16832947e-01, 4.73649240e-01],\n",
       "       [7.57306951e-01, 2.92534558e-02, 2.13439593e-01],\n",
       "       [5.21532463e-01, 8.23910632e-02, 3.96076473e-01],\n",
       "       [1.45876346e-02, 4.99912662e-01, 4.85499704e-01],\n",
       "       [6.13028227e-03, 5.32057350e-01, 4.61812368e-01],\n",
       "       [3.36004596e-01, 2.10064398e-01, 4.53931006e-01],\n",
       "       [4.35441271e-01, 1.68821059e-01, 3.95737670e-01],\n",
       "       [9.36514503e-03, 7.32735069e-01, 2.57899786e-01],\n",
       "       [2.68468074e-01, 3.18899609e-01, 4.12632318e-01],\n",
       "       [8.90283722e-04, 5.50676918e-01, 4.48432798e-01],\n",
       "       [3.01577178e-01, 3.46554760e-02, 6.63767346e-01],\n",
       "       [4.54495395e-01, 1.83625939e-01, 3.61878666e-01],\n",
       "       [2.10374112e-02, 6.70697717e-01, 3.08264872e-01],\n",
       "       [7.86218111e-01, 1.31377281e-02, 2.00644161e-01],\n",
       "       [4.75029872e-01, 4.32612935e-01, 9.23571924e-02],\n",
       "       [6.73951259e-01, 2.27253556e-01, 9.87951858e-02],\n",
       "       [3.53841494e-02, 6.73438198e-01, 2.91177653e-01],\n",
       "       [2.13321647e-01, 1.42644929e-01, 6.44033425e-01],\n",
       "       [4.30879906e-01, 8.92367171e-02, 4.79883376e-01],\n",
       "       [4.45289074e-02, 4.59205497e-01, 4.96265596e-01],\n",
       "       [5.51448914e-01, 5.16934824e-02, 3.96857604e-01],\n",
       "       [7.70152294e-01, 6.73419142e-03, 2.23113514e-01],\n",
       "       [1.88788108e-01, 3.91647204e-01, 4.19564687e-01],\n",
       "       [5.51244498e-02, 6.73803411e-01, 2.71072139e-01],\n",
       "       [7.25545720e-01, 3.11694557e-02, 2.43284825e-01],\n",
       "       [8.75108537e-02, 4.83716209e-01, 4.28772938e-01],\n",
       "       [8.02693016e-01, 2.94022215e-02, 1.67904762e-01],\n",
       "       [1.10050648e-02, 6.69363140e-01, 3.19631795e-01],\n",
       "       [2.77636349e-01, 8.08392749e-02, 6.41524376e-01],\n",
       "       [1.13524077e-03, 7.33825017e-01, 2.65039743e-01],\n",
       "       [4.48520192e-01, 1.50803573e-01, 4.00676234e-01],\n",
       "       [4.20234040e-01, 6.66038992e-02, 5.13162060e-01],\n",
       "       [1.13189418e-02, 8.11161956e-01, 1.77519102e-01],\n",
       "       [4.35762410e-01, 2.62981821e-01, 3.01255769e-01],\n",
       "       [2.16020700e-03, 4.72889983e-01, 5.24949810e-01],\n",
       "       [7.53793910e-01, 5.73920656e-02, 1.88814024e-01],\n",
       "       [4.41377340e-01, 4.57617292e-03, 5.54046487e-01],\n",
       "       [2.96187506e-01, 3.04548728e-01, 3.99263766e-01],\n",
       "       [1.09728301e-01, 4.56458839e-01, 4.33812860e-01],\n",
       "       [3.09033438e-02, 7.08050611e-01, 2.61046046e-01],\n",
       "       [6.05033707e-01, 6.62228554e-02, 3.28743438e-01],\n",
       "       [5.70428632e-01, 6.25717245e-02, 3.66999644e-01],\n",
       "       [5.94738351e-01, 2.47157139e-02, 3.80545935e-01],\n",
       "       [1.56133007e-01, 2.15200123e-01, 6.28666870e-01],\n",
       "       [4.17905782e-02, 7.17319276e-01, 2.40890146e-01],\n",
       "       [8.29018368e-01, 3.68884176e-02, 1.34093214e-01],\n",
       "       [1.39201395e-02, 7.44634256e-01, 2.41445605e-01],\n",
       "       [5.68893974e-01, 6.32602737e-02, 3.67845752e-01],\n",
       "       [5.35653637e-01, 3.23631023e-02, 4.31983261e-01],\n",
       "       [6.66667658e-03, 5.31096867e-01, 4.62236457e-01],\n",
       "       [4.69921827e-02, 4.80483732e-01, 4.72524086e-01],\n",
       "       [2.29559098e-01, 4.33212943e-01, 3.37227959e-01],\n",
       "       [1.91975682e-02, 7.40746367e-01, 2.40056065e-01],\n",
       "       [7.96980251e-01, 1.05748198e-02, 1.92444929e-01],\n",
       "       [7.71905684e-01, 6.68523846e-04, 2.27425792e-01],\n",
       "       [1.72495659e-01, 7.40439831e-01, 8.70645106e-02],\n",
       "       [7.21283510e-01, 9.54046565e-02, 1.83311833e-01],\n",
       "       [6.11701115e-01, 1.63470109e-01, 2.24828775e-01],\n",
       "       [3.75689077e-01, 3.70475896e-01, 2.53835027e-01],\n",
       "       [2.33240715e-01, 2.48040469e-01, 5.18718816e-01],\n",
       "       [3.78502683e-03, 4.28451050e-01, 5.67763923e-01],\n",
       "       [6.20572059e-01, 7.42148978e-02, 3.05213043e-01],\n",
       "       [4.75056757e-01, 1.98426776e-02, 5.05100566e-01],\n",
       "       [2.32972169e-03, 5.29874450e-01, 4.67795829e-01],\n",
       "       [1.37203425e-03, 8.89947190e-01, 1.08680776e-01],\n",
       "       [3.41180180e-01, 2.35559278e-01, 4.23260542e-01],\n",
       "       [9.22487748e-02, 8.03198230e-01, 1.04552995e-01],\n",
       "       [2.11281780e-01, 6.52405257e-01, 1.36312964e-01],\n",
       "       [2.30354942e-03, 2.33338858e-01, 7.64357592e-01],\n",
       "       [7.09987090e-01, 3.31758908e-02, 2.56837019e-01],\n",
       "       [3.72393824e-02, 6.85707902e-01, 2.77052716e-01],\n",
       "       [8.47909330e-02, 8.39808222e-01, 7.54008450e-02],\n",
       "       [5.77268961e-01, 2.47453355e-01, 1.75277684e-01],\n",
       "       [7.18177330e-01, 3.82837276e-03, 2.77994297e-01],\n",
       "       [2.36632689e-01, 5.40986829e-02, 7.09268628e-01],\n",
       "       [3.07920424e-01, 2.48704247e-01, 4.43375329e-01],\n",
       "       [1.90575859e-02, 9.11544256e-01, 6.93981579e-02],\n",
       "       [2.22097880e-01, 4.47186897e-01, 3.30715223e-01],\n",
       "       [7.97412620e-01, 2.82994221e-02, 1.74287958e-01],\n",
       "       [8.25202591e-02, 6.17756242e-01, 2.99723499e-01],\n",
       "       [6.24067344e-01, 1.48947923e-02, 3.61037864e-01],\n",
       "       [3.04531253e-03, 8.82920075e-01, 1.14034613e-01],\n",
       "       [1.84938541e-04, 8.24984426e-01, 1.74830636e-01],\n",
       "       [2.29394547e-01, 7.04784424e-01, 6.58210285e-02],\n",
       "       [3.65078166e-02, 5.62312956e-01, 4.01179228e-01],\n",
       "       [7.14201847e-01, 9.56770852e-02, 1.90121068e-01],\n",
       "       [1.25196215e-01, 6.31244258e-01, 2.43559528e-01],\n",
       "       [7.77804349e-03, 5.54702326e-01, 4.37519630e-01],\n",
       "       [3.62024155e-02, 7.28764387e-01, 2.35033197e-01],\n",
       "       [1.95198414e-01, 5.35789843e-01, 2.69011744e-01],\n",
       "       [6.16550192e-03, 9.54882979e-01, 3.89515191e-02],\n",
       "       [6.74330208e-01, 2.16709720e-03, 3.23502695e-01],\n",
       "       [7.64422757e-01, 7.26516058e-02, 1.62925638e-01],\n",
       "       [4.87304172e-01, 4.87621355e-02, 4.63933692e-01],\n",
       "       [6.51880524e-01, 7.93666277e-04, 3.47325810e-01],\n",
       "       [3.54949574e-01, 1.10211507e-01, 5.34838919e-01],\n",
       "       [7.52898068e-01, 1.59278978e-01, 8.78229541e-02],\n",
       "       [4.74507179e-01, 3.46164704e-01, 1.79328118e-01],\n",
       "       [9.66149768e-02, 3.17256974e-01, 5.86128050e-01],\n",
       "       [7.73324681e-01, 3.60155191e-04, 2.26315164e-01],\n",
       "       [1.54873451e-03, 8.92977224e-01, 1.05474042e-01],\n",
       "       [1.07933416e-02, 6.26019597e-01, 3.63187062e-01],\n",
       "       [5.97883034e-02, 8.30293489e-01, 1.09918208e-01],\n",
       "       [6.83391567e-01, 4.56332215e-02, 2.70975211e-01],\n",
       "       [4.78381214e-01, 1.17973786e-01, 4.03645000e-01],\n",
       "       [6.66213572e-01, 2.42525056e-01, 9.12613728e-02],\n",
       "       [3.00241962e-03, 5.59757484e-01, 4.37240096e-01],\n",
       "       [4.45515370e-01, 4.38622349e-01, 1.15862281e-01],\n",
       "       [2.97391803e-01, 2.86211028e-01, 4.16397168e-01],\n",
       "       [2.66670668e-02, 7.86222475e-01, 1.87110458e-01],\n",
       "       [7.18196553e-01, 2.85096979e-03, 2.78952478e-01],\n",
       "       [7.73372325e-01, 2.13638715e-02, 2.05263803e-01],\n",
       "       [1.11520494e-01, 3.92331064e-01, 4.96148442e-01],\n",
       "       [2.72438282e-01, 2.01717017e-01, 5.25844701e-01],\n",
       "       [1.37847872e-01, 1.34987350e-01, 7.27164778e-01],\n",
       "       [1.04545262e-03, 9.48852272e-01, 5.01022753e-02],\n",
       "       [6.34777719e-01, 8.86732698e-02, 2.76549011e-01],\n",
       "       [1.26211599e-01, 5.87864856e-01, 2.85923545e-01],\n",
       "       [5.10223219e-02, 4.36649478e-01, 5.12328200e-01],\n",
       "       [4.86452495e-03, 7.19800523e-01, 2.75334952e-01],\n",
       "       [3.11956895e-01, 3.23169111e-01, 3.64873995e-01],\n",
       "       [1.35599559e-01, 6.80837802e-01, 1.83562639e-01],\n",
       "       [1.87485620e-01, 1.08433229e-01, 7.04081151e-01],\n",
       "       [7.91109547e-01, 4.85185194e-03, 2.04038601e-01],\n",
       "       [8.59439095e-02, 4.94217694e-01, 4.19838396e-01],\n",
       "       [7.02207061e-01, 2.49351220e-02, 2.72857817e-01],\n",
       "       [5.17150317e-02, 8.58023892e-01, 9.02610760e-02],\n",
       "       [8.55154661e-01, 2.74425820e-02, 1.17402757e-01],\n",
       "       [6.03566202e-01, 4.97337354e-03, 3.91460424e-01],\n",
       "       [6.55549848e-03, 5.18139905e-01, 4.75304596e-01],\n",
       "       [5.69689173e-01, 2.89978002e-02, 4.01313027e-01],\n",
       "       [4.74111183e-01, 8.23313380e-02, 4.43557479e-01],\n",
       "       [7.04679864e-01, 3.00371961e-02, 2.65282939e-01],\n",
       "       [3.94517937e-01, 3.28591497e-01, 2.76890565e-01],\n",
       "       [1.45768440e-02, 6.36891719e-01, 3.48531437e-01],\n",
       "       [1.00039843e-03, 8.46069712e-01, 1.52929890e-01],\n",
       "       [6.39286436e-01, 1.34146493e-01, 2.26567071e-01],\n",
       "       [7.67201746e-01, 5.10149763e-03, 2.27696757e-01],\n",
       "       [4.23915896e-01, 7.90156681e-02, 4.97068436e-01],\n",
       "       [6.13537593e-01, 4.40581888e-02, 3.42404219e-01],\n",
       "       [3.22191986e-01, 1.39202257e-01, 5.38605757e-01],\n",
       "       [4.25061254e-01, 3.31494818e-01, 2.43443928e-01],\n",
       "       [6.85395431e-01, 1.17496263e-03, 3.13429606e-01],\n",
       "       [1.09062092e-02, 7.70195102e-01, 2.18898688e-01],\n",
       "       [4.89757049e-02, 7.09670725e-01, 2.41353570e-01],\n",
       "       [1.30928836e-01, 2.73079659e-01, 5.95991504e-01],\n",
       "       [1.20079093e-01, 6.21075509e-01, 2.58845399e-01],\n",
       "       [1.40649789e-03, 7.75790499e-01, 2.22803003e-01],\n",
       "       [5.66894477e-03, 5.04753768e-01, 4.89577287e-01],\n",
       "       [5.42484581e-02, 5.86409597e-01, 3.59341945e-01],\n",
       "       [1.99261198e-01, 6.86359042e-01, 1.14379760e-01],\n",
       "       [7.74974827e-01, 1.65157730e-02, 2.08509400e-01],\n",
       "       [3.48001960e-01, 2.59845476e-02, 6.26013493e-01],\n",
       "       [7.87738041e-01, 2.14221367e-02, 1.90839823e-01],\n",
       "       [4.63158727e-01, 3.54778687e-01, 1.82062586e-01],\n",
       "       [6.30248164e-01, 1.39292404e-01, 2.30459432e-01],\n",
       "       [7.76034391e-02, 3.52660663e-01, 5.69735898e-01],\n",
       "       [6.00888230e-02, 6.43618993e-01, 2.96292184e-01],\n",
       "       [2.15102046e-01, 2.37616304e-01, 5.47281650e-01],\n",
       "       [8.47933888e-01, 1.72766895e-02, 1.34789423e-01],\n",
       "       [2.47813102e-02, 7.80697067e-01, 1.94521623e-01],\n",
       "       [1.45547955e-01, 7.69166302e-01, 8.52857437e-02],\n",
       "       [1.88537024e-01, 3.39675697e-01, 4.71787279e-01],\n",
       "       [5.02176874e-01, 9.21840589e-02, 4.05639067e-01],\n",
       "       [4.03421581e-01, 2.80705510e-01, 3.15872909e-01],\n",
       "       [3.04728587e-02, 4.52229005e-01, 5.17298136e-01],\n",
       "       [4.02278808e-01, 3.07088334e-01, 2.90632858e-01],\n",
       "       [3.32523333e-01, 2.30550459e-01, 4.36926209e-01],\n",
       "       [5.60698887e-02, 5.63864075e-01, 3.80066036e-01],\n",
       "       [2.98049756e-02, 6.70821722e-01, 2.99373302e-01],\n",
       "       [6.52509124e-01, 2.55833798e-02, 3.21907496e-01],\n",
       "       [5.80531051e-01, 4.55004692e-02, 3.73968480e-01],\n",
       "       [3.50022800e-02, 6.24503158e-01, 3.40494562e-01],\n",
       "       [3.72547970e-01, 1.48175376e-01, 4.79276653e-01],\n",
       "       [1.51173926e-01, 4.98899805e-01, 3.49926269e-01],\n",
       "       [7.52967137e-01, 1.88379594e-02, 2.28194904e-01],\n",
       "       [6.58542532e-01, 1.49601737e-01, 1.91855731e-01],\n",
       "       [4.03397396e-01, 2.50770944e-01, 3.45831660e-01],\n",
       "       [7.42516930e-01, 3.69985508e-02, 2.20484519e-01],\n",
       "       [3.02239057e-01, 6.94278983e-02, 6.28333045e-01],\n",
       "       [2.44374336e-01, 5.30047799e-01, 2.25577865e-01],\n",
       "       [6.38656687e-01, 4.14790796e-02, 3.19864233e-01],\n",
       "       [4.99130718e-01, 3.41280013e-01, 1.59589269e-01],\n",
       "       [3.98094888e-02, 4.79948038e-01, 4.80242474e-01],\n",
       "       [2.38150822e-02, 4.70949059e-01, 5.05235859e-01],\n",
       "       [6.10352957e-01, 1.16431014e-01, 2.73216029e-01],\n",
       "       [4.47253605e-01, 3.02668064e-01, 2.50078331e-01],\n",
       "       [4.11258879e-01, 2.70270958e-01, 3.18470163e-01],\n",
       "       [5.07403451e-01, 2.31231873e-01, 2.61364677e-01],\n",
       "       [5.01607054e-02, 7.06346199e-01, 2.43493095e-01]])"
      ]
     },
     "execution_count": 28,
     "metadata": {},
     "output_type": "execute_result"
    }
   ],
   "source": [
    "model_2.predict_proba(X_test)"
   ]
  },
  {
   "cell_type": "code",
   "execution_count": 30,
   "id": "32aaede7",
   "metadata": {},
   "outputs": [
    {
     "data": {
      "text/plain": [
       "array([1, 0, 1, 1, 0, 0, 1, 2, 2, 2, 0, 0, 0, 0, 0, 0, 2, 1, 2, 1, 2, 2,\n",
       "       0, 0, 0, 0, 1, 2, 0, 0, 1, 0, 2, 2, 1, 1, 0, 1, 1, 0, 0, 2, 2, 2,\n",
       "       2, 0, 0, 0, 1, 1, 1, 1, 1, 1, 0, 0, 2, 1, 0, 1, 1, 0, 0, 2, 1, 0,\n",
       "       0, 0, 1, 2, 2, 0, 1, 2, 2, 1, 2, 0, 0, 0, 0, 2, 2, 1, 2, 2, 0, 2,\n",
       "       0, 1, 1, 1, 1, 1, 0, 1, 0, 2, 2, 2, 1, 0, 1, 1, 2, 1, 1, 2, 0, 1,\n",
       "       2, 0, 0, 1, 1, 2, 0, 1, 2, 1, 2, 0, 1, 0, 0, 0, 1, 2, 2, 2, 0, 0,\n",
       "       2, 1, 0, 1, 0, 1, 2, 1, 0, 2, 1, 0, 2, 0, 2, 2, 1, 1, 0, 0, 0, 2,\n",
       "       1, 0, 1, 0, 0, 1, 1, 1, 1, 0, 0, 1, 0, 0, 0, 2, 2, 0, 2, 1, 1, 2,\n",
       "       1, 1, 2, 0, 1, 1, 0, 0, 2, 2, 1, 1, 0, 1, 0, 1, 1, 1, 1, 0, 1, 1,\n",
       "       1, 1, 1, 0, 0, 0, 0, 2, 0, 0, 2, 0, 1, 1, 1, 0, 0, 0, 1, 0, 2, 1,\n",
       "       0, 0, 2, 2, 2, 1, 0, 1, 2, 1, 2, 1, 2, 0, 1, 0, 1, 0, 0, 1, 0, 0,\n",
       "       0, 0, 1, 1, 0, 0, 2, 0, 2, 0, 0, 1, 1, 2, 1, 1, 1, 1, 1, 0, 2, 0,\n",
       "       0, 0, 2, 1, 2, 0, 1, 1, 2, 0, 0, 2, 0, 2, 1, 1, 0, 0, 1, 2, 1, 0,\n",
       "       0, 0, 0, 2, 1, 0, 0, 2, 2, 0, 0, 0, 0, 1])"
      ]
     },
     "execution_count": 30,
     "metadata": {},
     "output_type": "execute_result"
    }
   ],
   "source": [
    "y_predict"
   ]
  },
  {
   "cell_type": "code",
   "execution_count": 32,
   "id": "89a121c2",
   "metadata": {},
   "outputs": [
    {
     "data": {
      "text/plain": [
       "array([[88,  7, 11],\n",
       "       [13, 70, 11],\n",
       "       [19, 29, 52]], dtype=int64)"
      ]
     },
     "execution_count": 32,
     "metadata": {},
     "output_type": "execute_result"
    }
   ],
   "source": [
    "confusion_matrix(y_test,y_predict)"
   ]
  },
  {
   "cell_type": "code",
   "execution_count": 33,
   "id": "ad221e99",
   "metadata": {},
   "outputs": [
    {
     "data": {
      "text/plain": [
       "0.7"
      ]
     },
     "execution_count": 33,
     "metadata": {},
     "output_type": "execute_result"
    }
   ],
   "source": [
    "accuracy_score(y_test,y_predict)"
   ]
  },
  {
   "cell_type": "code",
   "execution_count": 35,
   "id": "b06dbdc7",
   "metadata": {},
   "outputs": [
    {
     "name": "stdout",
     "output_type": "stream",
     "text": [
      "              precision    recall  f1-score   support\n",
      "\n",
      "           0       0.73      0.83      0.78       106\n",
      "           1       0.66      0.74      0.70        94\n",
      "           2       0.70      0.52      0.60       100\n",
      "\n",
      "    accuracy                           0.70       300\n",
      "   macro avg       0.70      0.70      0.69       300\n",
      "weighted avg       0.70      0.70      0.69       300\n",
      "\n"
     ]
    }
   ],
   "source": [
    "print(classification_report(y_test,y_predict))"
   ]
  },
  {
   "cell_type": "code",
   "execution_count": null,
   "id": "f3d82387",
   "metadata": {},
   "outputs": [],
   "source": []
  }
 ],
 "metadata": {
  "kernelspec": {
   "display_name": "Python 3 (ipykernel)",
   "language": "python",
   "name": "python3"
  },
  "language_info": {
   "codemirror_mode": {
    "name": "ipython",
    "version": 3
   },
   "file_extension": ".py",
   "mimetype": "text/x-python",
   "name": "python",
   "nbconvert_exporter": "python",
   "pygments_lexer": "ipython3",
   "version": "3.9.7"
  }
 },
 "nbformat": 4,
 "nbformat_minor": 5
}
